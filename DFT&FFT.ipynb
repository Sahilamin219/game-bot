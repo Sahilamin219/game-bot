{
 "cells": [
  {
   "cell_type": "code",
   "execution_count": 1,
   "metadata": {},
   "outputs": [
    {
     "name": "stdout",
     "output_type": "stream",
     "text": [
      "[0 1 2 3 4 5 6 7]\n",
      "[28.+0.00000000e+00j 28.+3.42901104e-14j 28.+6.85802208e-14j\n",
      " 28.+8.86594764e-14j 28.+1.37160442e-13j 28.+2.92242817e-13j\n",
      " 28.+1.77318953e-13j 28.+3.18190474e-13j]\n"
     ]
    }
   ],
   "source": [
    "import numpy as np\n",
    "\n",
    "N = 8\n",
    "x = np.arange(N)\n",
    "print(x)\n",
    "\n",
    "n = np.arange(N).reshape((1, N))\n",
    "k = n.T\n",
    "\n",
    "e = np.exp(-2j*np.pi * np.dot(k, n))\n",
    "\n",
    "ans = np.dot(x, e)\n",
    "print(ans)\n",
    "\n",
    "def DFT(x):\n",
    "    N = len(x)\n",
    "    n = np.arange(N).reshape((1, N))\n",
    "    k = n.T\n",
    "    e = np.exp(-2j*np.pi * np.dot(k, n))\n",
    "    ans = np.dot(x, e)\n",
    "    return ans"
   ]
  },
  {
   "cell_type": "code",
   "execution_count": 2,
   "metadata": {},
   "outputs": [
    {
     "data": {
      "text/plain": [
       "array([28.+0.00000000e+00j, 28.+1.37160442e-14j, 28.+1.66551965e-14j,\n",
       "       28.+3.03712406e-14j, 28.+1.56754790e-14j, 28.+2.93915232e-14j,\n",
       "       28.+3.23306755e-14j, 28.+4.60467196e-14j])"
      ]
     },
     "execution_count": 2,
     "metadata": {},
     "output_type": "execute_result"
    }
   ],
   "source": [
    "def FFT(x):\n",
    "    if(len(x)<=2):\n",
    "        return DFT(x)\n",
    "    Xeven = x[::2]\n",
    "    Xodd  = x[1::2]\n",
    "    FFTeven = FFT(Xeven)\n",
    "    FFTodd  = FFT(Xodd)\n",
    "    FFTodd1 = FFTodd.copy()\n",
    "    FFTodd2 = FFTodd.copy()\n",
    "    for i in range(len(FFTodd)):\n",
    "        FFTodd1[i]*=np.exp(-2j*np.pi*i)\n",
    "    for i in range(len(FFTodd)):\n",
    "        FFTodd2[i]*=np.exp(-2j*np.pi*(i + len(FFTodd)) )\n",
    "        \n",
    "    ans1 = FFTeven + FFTodd1\n",
    "    ans2 = FFTeven + FFTodd2\n",
    "#     print(np.concatenate([ans1, ans2]))\n",
    "    return np.concatenate([ans1, ans2])\n",
    "\n",
    "x=np.arange(8)\n",
    "FFT(x)"
   ]
  },
  {
   "cell_type": "code",
   "execution_count": null,
   "metadata": {},
   "outputs": [],
   "source": []
  }
 ],
 "metadata": {
  "kernelspec": {
   "display_name": "Python 3",
   "language": "python",
   "name": "python3"
  },
  "language_info": {
   "codemirror_mode": {
    "name": "ipython",
    "version": 3
   },
   "file_extension": ".py",
   "mimetype": "text/x-python",
   "name": "python",
   "nbconvert_exporter": "python",
   "pygments_lexer": "ipython3",
   "version": "3.6.9"
  }
 },
 "nbformat": 4,
 "nbformat_minor": 2
}
